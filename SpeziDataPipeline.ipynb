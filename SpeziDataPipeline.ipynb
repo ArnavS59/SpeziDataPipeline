{
 "cells": [
  {
   "cell_type": "markdown",
   "id": "1b4070c1-59f7-474e-8ea1-156cd42ef811",
   "metadata": {},
   "source": [
    "# Step 1: Import necessary libraries\n"
   ]
  },
  {
   "cell_type": "code",
   "execution_count": null,
   "id": "3da82a85-6035-4757-a666-e56b5f270513",
   "metadata": {},
   "outputs": [],
   "source": [
    "import firebase_admin\n",
    "from firebase_admin import credentials, db, firestore\n",
    "\n",
    "from helpers import *"
   ]
  },
  {
   "cell_type": "markdown",
   "id": "c3623d09-656a-4abe-a4b9-a433ec86a91c",
   "metadata": {},
   "source": [
    "# Step 2: Establish Connection to Firebase\n"
   ]
  },
  {
   "cell_type": "code",
   "execution_count": null,
   "id": "e844a4e1-1d9e-4c4a-a6a5-46da5b08f17c",
   "metadata": {},
   "outputs": [],
   "source": [
    "serviceAccountKey_file = 'path/to/serviceAccountKey.json'\n",
    "project_id = 'cs342-2024-example-application'\n",
    "\n",
    "cred = credentials.Certificate(serviceAccountKey_file)\n",
    "firebase_admin.initialize_app(cred)\n",
    "\n",
    "db = firestore.client()"
   ]
  },
  {
   "cell_type": "markdown",
   "id": "425d2852-a510-4dc0-a90c-b49cd269f9f4",
   "metadata": {},
   "source": [
    "# Step 3: Access Data on Firebase"
   ]
  },
  {
   "cell_type": "markdown",
   "id": "6a8c904a-2d6b-4216-afd6-0fdd739421e4",
   "metadata": {},
   "source": [
    "## Print Users Summary"
   ]
  },
  {
   "cell_type": "code",
   "execution_count": null,
   "id": "dc69d5fe-b231-4c6b-94b8-16c2f5e13b13",
   "metadata": {},
   "outputs": [],
   "source": [
    "users = export_users_to_csv(db, 'users','users_summary.csv')\n",
    "users.head()"
   ]
  },
  {
   "cell_type": "markdown",
   "id": "a814801f-de36-4b23-b753-3ee7ff0a68fb",
   "metadata": {},
   "source": [
    "# Filter data by dates"
   ]
  },
  {
   "cell_type": "code",
   "execution_count": null,
   "id": "638ec1d4-c2e4-47d3-8a72-a40fd9bcda93",
   "metadata": {},
   "outputs": [],
   "source": [
    "date1 = \"2022-02-01\"; date2 = \"2023-07-28\"\n",
    "flattened_data, filtered_data, daily_data = analyze_data(db, 'users', date1=None, date2=None, save_as_csv=True)"
   ]
  },
  {
   "cell_type": "markdown",
   "id": "6e91ed96-c86e-4486-ab28-ef55fdd1947e",
   "metadata": {},
   "source": [
    "# Visualize Data"
   ]
  },
  {
   "cell_type": "code",
   "execution_count": 11,
   "id": "5a09ab04-4c93-44dd-b95c-1b825f645b58",
   "metadata": {},
   "outputs": [
    {
     "data": {
      "application/vnd.jupyter.widget-view+json": {
       "model_id": "d1b21056df864faea29932a8379917b9",
       "version_major": 2,
       "version_minor": 0
      },
      "text/plain": [
       "Dropdown(description='Data type:', options=('Daily Step Count', 'Daily Dietary Protein', 'Daily Dietary Energy…"
      ]
     },
     "metadata": {},
     "output_type": "display_data"
    },
    {
     "data": {
      "application/vnd.jupyter.widget-view+json": {
       "model_id": "c76bbe99de8b4dcfb6fa7d3ee773b68e",
       "version_major": 2,
       "version_minor": 0
      },
      "text/plain": [
       "Dropdown(description='User:', options=(), value=None)"
      ]
     },
     "metadata": {},
     "output_type": "display_data"
    },
    {
     "data": {
      "application/vnd.jupyter.widget-view+json": {
       "model_id": "339316e94a8b4fdcad94e895bd1eda9d",
       "version_major": 2,
       "version_minor": 0
      },
      "text/plain": [
       "IntSlider(value=0, continuous_update=False, description='Min value:', max=1000)"
      ]
     },
     "metadata": {},
     "output_type": "display_data"
    },
    {
     "data": {
      "application/vnd.jupyter.widget-view+json": {
       "model_id": "8475d49655844ad6952c5d040e0df352",
       "version_major": 2,
       "version_minor": 0
      },
      "text/plain": [
       "IntSlider(value=780, continuous_update=False, description='Max value:', max=5000)"
      ]
     },
     "metadata": {},
     "output_type": "display_data"
    },
    {
     "data": {
      "application/vnd.jupyter.widget-view+json": {
       "model_id": "3053bee68a3144bb9fce9966c7d33a8d",
       "version_major": 2,
       "version_minor": 0
      },
      "text/plain": [
       "Output()"
      ]
     },
     "metadata": {},
     "output_type": "display_data"
    }
   ],
   "source": [
    "vizualize_data(daily_data, date1, date2)"
   ]
  }
 ],
 "metadata": {
  "kernelspec": {
   "display_name": "Python 3 (ipykernel)",
   "language": "python",
   "name": "python3"
  },
  "language_info": {
   "codemirror_mode": {
    "name": "ipython",
    "version": 3
   },
   "file_extension": ".py",
   "mimetype": "text/x-python",
   "name": "python",
   "nbconvert_exporter": "python",
   "pygments_lexer": "ipython3",
   "version": "3.7.16"
  }
 },
 "nbformat": 4,
 "nbformat_minor": 5
}
